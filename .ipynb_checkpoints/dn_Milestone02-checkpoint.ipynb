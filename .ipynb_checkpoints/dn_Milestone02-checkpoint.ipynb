{
 "cells": [
  {
   "cell_type": "code",
   "execution_count": 1,
   "metadata": {},
   "outputs": [],
   "source": [
    "# -*- coding: utf-8 -*- \n",
    "\n",
    "import os\n",
    "import sys\n",
    "import pdfplumber\n",
    "\n",
    "from collections import OrderedDict\n",
    "from PyPDF2 import PdfFileReader"
   ]
  },
  {
   "cell_type": "code",
   "execution_count": 2,
   "metadata": {},
   "outputs": [],
   "source": [
    "def getfiles():\n",
    "    fls = []\n",
    "    for d, sd, fl in os.walk('.'):\n",
    "        for f in fl:\n",
    "            fls.append(os.path.join(d, f))\n",
    "    return list(filter(lambda f: '.pdf' in f, fls))"
   ]
  },
  {
   "cell_type": "code",
   "execution_count": 3,
   "metadata": {},
   "outputs": [],
   "source": [
    "def readini(fname):\n",
    "    lst = []\n",
    "    with open(fname, 'r') as fh:  \n",
    "        for l in fh:\n",
    "            lst.append(l.rstrip(os.linesep))\n",
    "    return lst"
   ]
  },
  {
   "cell_type": "code",
   "execution_count": 4,
   "metadata": {},
   "outputs": [],
   "source": [
    "def getformfields(obj, tree=None, retval=None, fileobj=None):\n",
    "    fieldAttributes = {\n",
    "        '/FT': 'Field Type', \n",
    "        '/Parent': 'Parent', \n",
    "        '/T': 'Field Name', \n",
    "        '/TU': 'Alternate Field Name',\n",
    "        '/TM': 'Mapping Name', \n",
    "        '/Ff': 'Field Flags', \n",
    "        '/V': 'Value', \n",
    "        '/DV': 'Default Value'\n",
    "    }\n",
    "    \n",
    "    if retval is None:\n",
    "        retval = OrderedDict()\n",
    "        catalog = obj.trailer[\"/Root\"]\n",
    "        if \"/AcroForm\" in catalog:\n",
    "            tree = catalog[\"/AcroForm\"]\n",
    "        else:\n",
    "            return None\n",
    "    if tree is None:\n",
    "        return retval\n",
    "\n",
    "    obj._checkKids(tree, retval, fileobj)\n",
    "    for attr in fieldAttributes:\n",
    "        if attr in tree:\n",
    "            obj._buildField(tree, retval, fileobj, fieldAttributes)\n",
    "            break\n",
    "\n",
    "    if \"/Fields\" in tree:\n",
    "        fields = tree[\"/Fields\"]\n",
    "        for f in fields:\n",
    "            field = f.getObject()\n",
    "            obj._buildField(field, retval, fileobj, fieldAttributes)\n",
    "\n",
    "    return retval"
   ]
  },
  {
   "cell_type": "code",
   "execution_count": 5,
   "metadata": {},
   "outputs": [],
   "source": [
    "def getfields(fn):\n",
    "    pdf = None\n",
    "    f = open(fn, 'rb')\n",
    "    pdf = PdfFileReader(f)\n",
    "    fields = getformfields(pdf)\n",
    "    f.close()\n",
    "    return OrderedDict((k, v.get('/V', '')) for k, v in fields.items())"
   ]
  },
  {
   "cell_type": "code",
   "execution_count": 6,
   "metadata": {},
   "outputs": [],
   "source": [
    "def removeff(lst):\n",
    "    r = []\n",
    "    for l in lst:\n",
    "        if not '|' in l:\n",
    "            r.append(l)\n",
    "    return r"
   ]
  },
  {
   "cell_type": "code",
   "execution_count": 7,
   "metadata": {},
   "outputs": [],
   "source": [
    "def findtextfields(flds, l, nl):\n",
    "    res = []\n",
    "    for fld in flds:\n",
    "        fieldn = fld.split('=')[0]\n",
    "        fieldkw = fld.split('=')[1]\n",
    "        words = l.split(' ')\n",
    "        nwords = nl.split(' ')\n",
    "        for i, w in enumerate(words):\n",
    "            if fieldkw.lower() in w.lower():\n",
    "                res.append(fieldn + '|' + nwords[i])\n",
    "                break\n",
    "    return res"
   ]
  },
  {
   "cell_type": "code",
   "execution_count": 8,
   "metadata": {},
   "outputs": [],
   "source": [
    "def flatlst(lst):\n",
    "    return [item for sl in lst for item in sl]"
   ]
  },
  {
   "cell_type": "code",
   "execution_count": 9,
   "metadata": {},
   "outputs": [],
   "source": [
    "def dict(lst):\n",
    "    dic = OrderedDict()\n",
    "    items = flatlst(lst)\n",
    "    for itm in items:\n",
    "        k = itm.split('|')[0]\n",
    "        v = itm.split('|')[1]\n",
    "        dic[k] = v\n",
    "    return dic"
   ]
  },
  {
   "cell_type": "code",
   "execution_count": 10,
   "metadata": {},
   "outputs": [],
   "source": [
    "def gettextfields(kw, i1, i2, fn):\n",
    "    res = []\n",
    "    pdf = pdfplumber.open(fn)\n",
    "    page = pdf.pages[0]\n",
    "    pgtxt = page.extract_text()\n",
    "    if kw.lower() in pgtxt.lower():\n",
    "        txt = pgtxt.split('\\n')\n",
    "        flds = removeff(list(set(i1 + i2)))\n",
    "        for i, l in enumerate(txt):\n",
    "            if len(l) > 100:\n",
    "                continue\n",
    "            r = findtextfields(flds, l, txt[i+1])\n",
    "            if len(r) > 0:\n",
    "                res.append(r)\n",
    "            if i == len(txt) - 2:\n",
    "                break\n",
    "            flt = flatlst(res)\n",
    "            if len(flt) == len(flds):\n",
    "                break\n",
    "        pdf.close()\n",
    "    return dict(res)"
   ]
  },
  {
   "cell_type": "code",
   "execution_count": 12,
   "metadata": {},
   "outputs": [
    {
     "name": "stdout",
     "output_type": "stream",
     "text": [
      "OrderedDict([('Text1', ''), ('Ref1', '0001'), ('Ref2', '0002'), ('Desc1', 'This is a test'), ('Desc2', 'This is another test'), ('EUR_TOT', ''), ('%IVA', ''), ('EUR_IVA', ''), ('IMP_TOT', ''), ('Qty1', '1'), ('Qty2', '2'), ('Pr1', '10'), ('Pr2', '5'), ('Amt1', '10'), ('Amt2', '10')])\n",
      "OrderedDict([('DeliveryDate', '14-01-19'), ('DeliveryNote', '1900070')])\n",
      "OrderedDict([('Text1', ''), ('Ref1', '0001'), ('Ref2', '0002'), ('Desc1', 'This is a test'), ('Desc2', 'This is another test'), ('EUR_TOT', ''), ('%IVA', ''), ('EUR_IVA', ''), ('IMP_TOT', ''), ('Qty1', '1'), ('Qty2', '2'), ('Pr1', '10'), ('Pr2', '5'), ('Amt1', '10'), ('Amt2', '10')])\n",
      "OrderedDict([('DeliveryDate', '14-01-19'), ('DeliveryNote', '1900070')])\n",
      "OrderedDict([('OR1', '0001'), ('OR2', '0002'), ('REF1', 'ref1'), ('REF2', 'ref2'), ('QUAN1', '1'), ('QUAN2', '1'), ('DES1', 'boxes'), ('DES2', 'bottles'), ('CON1', 'Concept 1'), ('CON2', 'Concept 2')])\n",
      "OrderedDict()\n"
     ]
    }
   ],
   "source": [
    "def execute():\n",
    "    try: \n",
    "        i1 = readini('l1.ini')\n",
    "        i2 = readini('l2.ini')\n",
    "        files = getfiles()\n",
    "        for fn in files:\n",
    "            fields = getfields(fn)\n",
    "            txtfields = gettextfields('ALBARAN Nº', i1, i2, fn)\n",
    "            print(fields)\n",
    "            print(txtfields)\n",
    "    except BaseException as msg:\n",
    "        print('Error occured: ' + str(msg))\n",
    "\n",
    "if __name__ == '__main__':\n",
    "    execute()"
   ]
  }
 ],
 "metadata": {
  "kernelspec": {
   "display_name": "Python 3",
   "language": "python",
   "name": "python3"
  },
  "language_info": {
   "codemirror_mode": {
    "name": "ipython",
    "version": 3
   },
   "file_extension": ".py",
   "mimetype": "text/x-python",
   "name": "python",
   "nbconvert_exporter": "python",
   "pygments_lexer": "ipython3",
   "version": "3.8.5"
  }
 },
 "nbformat": 4,
 "nbformat_minor": 4
}
